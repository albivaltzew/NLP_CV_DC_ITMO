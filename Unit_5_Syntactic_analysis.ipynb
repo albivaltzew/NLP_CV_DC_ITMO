{
  "cells": [
    {
      "cell_type": "markdown",
      "metadata": {
        "id": "view-in-github",
        "colab_type": "text"
      },
      "source": [
        "<a href=\"https://colab.research.google.com/github/albivaltzew/NLP_CV_DC_ITMO/blob/main/Unit_5_Syntactic_analysis.ipynb\" target=\"_parent\"><img src=\"https://colab.research.google.com/assets/colab-badge.svg\" alt=\"Open In Colab\"/></a>"
      ]
    },
    {
      "cell_type": "markdown",
      "metadata": {
        "id": "885nCnaEi6Zq"
      },
      "source": [
        "В этом задании мы рассмотрим работу UDpipe с двумя моделями:\n",
        "\n",
        "* предварительно обученной на SynTagRus [link](https://universaldependencies.org/treebanks/ru_syntagrus/index.html)\n",
        "* обученной на Taiga [link](https://universaldependencies.org/treebanks/ru_taiga/index.html)"
      ]
    },
    {
      "cell_type": "markdown",
      "metadata": {
        "id": "Xi3sqi2ni6Zw"
      },
      "source": [
        "## Подключение необходимых модулей"
      ]
    },
    {
      "cell_type": "code",
      "execution_count": null,
      "metadata": {
        "colab": {
          "base_uri": "https://localhost:8080/"
        },
        "id": "pFELL0b6i6Zz",
        "outputId": "eac0963d-335b-457f-dae8-b30e7afe3268"
      },
      "outputs": [
        {
          "output_type": "stream",
          "name": "stdout",
          "text": [
            "\u001b[?25l     \u001b[90m━━━━━━━━━━━━━━━━━━━━━━━━━━━━━━━━━━━━━━━━\u001b[0m \u001b[32m0.0/937.2 KB\u001b[0m \u001b[31m?\u001b[0m eta \u001b[36m-:--:--\u001b[0m\r\u001b[2K     \u001b[91m━━━━━━━\u001b[0m\u001b[90m╺\u001b[0m\u001b[90m━━━━━━━━━━━━━━━━━━━━━━━━━━━━━━━\u001b[0m \u001b[32m174.1/937.2 KB\u001b[0m \u001b[31m5.2 MB/s\u001b[0m eta \u001b[36m0:00:01\u001b[0m\r\u001b[2K     \u001b[91m━━━━━━━━━━━━━━━━━━━━━━━━━━━━━━━━━━━━━\u001b[0m\u001b[91m╸\u001b[0m \u001b[32m931.8/937.2 KB\u001b[0m \u001b[31m16.2 MB/s\u001b[0m eta \u001b[36m0:00:01\u001b[0m\r\u001b[2K     \u001b[90m━━━━━━━━━━━━━━━━━━━━━━━━━━━━━━━━━━━━━━━\u001b[0m \u001b[32m937.2/937.2 KB\u001b[0m \u001b[31m9.1 MB/s\u001b[0m eta \u001b[36m0:00:00\u001b[0m\n",
            "\u001b[?25h"
          ]
        }
      ],
      "source": [
        "! pip install -q conllu\n",
        "! pip install -q graphviz\n",
        "! pip install -q ufal.udpipe"
      ]
    },
    {
      "cell_type": "markdown",
      "metadata": {
        "id": "-w82dt3Ki6aJ"
      },
      "source": [
        "## Загрузка моделей"
      ]
    },
    {
      "cell_type": "code",
      "execution_count": null,
      "metadata": {
        "id": "kDboaNgQi6aK"
      },
      "outputs": [],
      "source": [
        "!wget -q 'https://lindat.mff.cuni.cz/repository/xmlui/bitstream/handle/11234/1-3131/russian-syntagrus-ud-2.5-191206.udpipe'\n",
        "!wget -q 'https://lindat.mff.cuni.cz/repository/xmlui/bitstream/handle/11234/1-3131/russian-taiga-ud-2.5-191206.udpipe'"
      ]
    },
    {
      "cell_type": "markdown",
      "metadata": {
        "id": "05htpbLZi6as"
      },
      "source": [
        "На этом подготовка материалов завершена, переходим к написанию кода для синтаксического анализа"
      ]
    },
    {
      "cell_type": "markdown",
      "metadata": {
        "id": "4RfK9-zii6aw"
      },
      "source": [
        "## Подключение библиотек"
      ]
    },
    {
      "cell_type": "code",
      "execution_count": null,
      "metadata": {
        "id": "dmf7LI_0i6ax"
      },
      "outputs": [],
      "source": [
        "import sys\n",
        "\n",
        "from conllu import parse\n",
        "from graphviz import Digraph\n",
        "from ufal.udpipe import Model, Pipeline, ProcessingError"
      ]
    },
    {
      "cell_type": "markdown",
      "metadata": {
        "id": "ufl9Rvugi6a3"
      },
      "source": [
        "## Настройка работы с моделями"
      ]
    },
    {
      "cell_type": "code",
      "execution_count": null,
      "metadata": {
        "colab": {
          "base_uri": "https://localhost:8080/"
        },
        "id": "Rj7bbVu4i6a4",
        "outputId": "d645bf4e-e059-4190-aa39-0e3521e2f23d"
      },
      "outputs": [
        {
          "output_type": "stream",
          "name": "stdout",
          "text": [
            "Loading model:russian-syntagrus-ud-2.5-191206.udpipe\n",
            "Loading done\n",
            "Loading model:russian-taiga-ud-2.5-191206.udpipe\n",
            "Loading done\n"
          ]
        }
      ],
      "source": [
        "INPUT_FORMAT = \"tokenize\"\n",
        "OUTPUT_FORMAT = \"conllu\"\n",
        "SYNTAGRUS_MODEL_FILE = \"russian-syntagrus-ud-2.5-191206.udpipe\"\n",
        "TAIGA_MODEL_FILE = \"russian-taiga-ud-2.5-191206.udpipe\"\n",
        "\n",
        "print(\"Loading model:\" + SYNTAGRUS_MODEL_FILE)\n",
        "syntagrus_model = Model.load(SYNTAGRUS_MODEL_FILE)\n",
        "print(\"Loading done\")\n",
        "\n",
        "print(\"Loading model:\" + TAIGA_MODEL_FILE)\n",
        "taiga_model = Model.load(TAIGA_MODEL_FILE)\n",
        "print(\"Loading done\")"
      ]
    },
    {
      "cell_type": "markdown",
      "metadata": {
        "id": "eFV0w_Xmi6bA"
      },
      "source": [
        "## Построение цепочки обработки"
      ]
    },
    {
      "cell_type": "markdown",
      "metadata": {
        "id": "201ztaiki6bB"
      },
      "source": [
        "Строим цепочку обработки  -- от сырого текста до синтаксического дерева"
      ]
    },
    {
      "cell_type": "code",
      "execution_count": null,
      "metadata": {
        "id": "NQxfMF_3i6bC"
      },
      "outputs": [],
      "source": [
        "syntagrus_pipeline = Pipeline(syntagrus_model, INPUT_FORMAT, \n",
        "                              Pipeline.DEFAULT, Pipeline.DEFAULT, OUTPUT_FORMAT)\n",
        "taiga_pipeline = Pipeline(taiga_model, INPUT_FORMAT, \n",
        "                          Pipeline.DEFAULT, Pipeline.DEFAULT, OUTPUT_FORMAT)\n",
        "\n",
        "error = ProcessingError()"
      ]
    },
    {
      "cell_type": "markdown",
      "metadata": {
        "id": "4rmXlR1ei6bI"
      },
      "source": [
        "Применение собственно цепочки обработки к сырому тексту; вывод в формате CoNLL-U."
      ]
    },
    {
      "cell_type": "code",
      "execution_count": null,
      "metadata": {
        "id": "MJedzauNi6bJ"
      },
      "outputs": [],
      "source": [
        "def parse_syntax(raw_text, pipeline):\n",
        "    \"\"\" Applying UDPipe \"\"\"\n",
        "    text = raw_text.strip()\n",
        "\n",
        "    # Process data\n",
        "    processed = pipeline.process(text, error)\n",
        "\n",
        "    if error.occurred():\n",
        "        sys.stderr.write(\"An error occurred when running run_udpipe: \")\n",
        "        sys.stderr.write(error.message)\n",
        "        sys.stderr.write(\"\\n\")\n",
        "\n",
        "    return processed"
      ]
    },
    {
      "cell_type": "markdown",
      "metadata": {
        "id": "CHD7DOp3i6bP"
      },
      "source": [
        "Создадим два разбора, которые и будем сравнивать."
      ]
    },
    {
      "cell_type": "code",
      "execution_count": null,
      "metadata": {
        "id": "svFDIXCli6bS"
      },
      "outputs": [],
      "source": [
        "# syntag = parse_syntax(\"Порвались о прибрежные скалы бедные мои зелёные башмачки.\", syntagrus_pipeline)\n",
        "# taiga = parse_syntax(\"Порвались о прибрежные скалы бедные мои зелёные башмачки.\", taiga_pipeline)"
      ]
    },
    {
      "cell_type": "code",
      "source": [
        "\n",
        "# syntag = parse_syntax(\"Таким образом баланс оказывается в пользу мемуариста.\", syntagrus_pipeline)\n",
        "# taiga = parse_syntax(\"Таким образом баланс оказывается в пользу мемуариста.\", taiga_pipeline)"
      ],
      "metadata": {
        "id": "tKh6C9dWAY4H"
      },
      "execution_count": null,
      "outputs": []
    },
    {
      "cell_type": "code",
      "source": [
        "# syntag = parse_syntax(\"Мнения экспертов оставались противоречивыми.\", syntagrus_pipeline)\n",
        "# taiga = parse_syntax(\"Мнения экспертов оставались противоречивыми.\", taiga_pipeline)"
      ],
      "metadata": {
        "id": "Z8aTLrItAoqu"
      },
      "execution_count": null,
      "outputs": []
    },
    {
      "cell_type": "code",
      "source": [
        "\n",
        "syntag = parse_syntax(\"Сегодня даже численность населения этого государства является относительной величиной .\", syntagrus_pipeline)\n",
        "taiga = parse_syntax(\"Сегодня даже численность населения этого государства является относительной величиной .\", taiga_pipeline)"
      ],
      "metadata": {
        "id": "VS63pWM8A6dk"
      },
      "execution_count": null,
      "outputs": []
    },
    {
      "cell_type": "markdown",
      "metadata": {
        "id": "9JqN3OWvqbuV"
      },
      "source": [
        "Разбор предложения в текстовом виде будет выглядеть следующим образом:"
      ]
    },
    {
      "cell_type": "code",
      "execution_count": null,
      "metadata": {
        "colab": {
          "base_uri": "https://localhost:8080/"
        },
        "id": "IciMoyh0qbuW",
        "outputId": "a4961622-e6e3-4a2c-e015-b5f6cbd9d2b3"
      },
      "outputs": [
        {
          "output_type": "stream",
          "name": "stdout",
          "text": [
            "# newdoc\n",
            "# newpar\n",
            "# sent_id = 1\n",
            "# text = Сегодня даже численность населения этого государства является относительной величиной .\n",
            "1\tСегодня\tсегодня\tADV\t_\tDegree=Pos\t7\tadvmod\t_\t_\n",
            "2\tдаже\tдаже\tPART\t_\t_\t3\tadvmod\t_\t_\n",
            "3\tчисленность\tчисленность\tNOUN\t_\tAnimacy=Inan|Case=Nom|Gender=Fem|Number=Sing\t7\tnsubj\t_\t_\n",
            "4\tнаселения\tнаселение\tNOUN\t_\tAnimacy=Inan|Case=Gen|Gender=Neut|Number=Sing\t3\tnmod\t_\t_\n",
            "5\tэтого\tэтот\tDET\t_\tAnimacy=Inan|Case=Gen|Gender=Neut|Number=Sing\t6\tdet\t_\t_\n",
            "6\tгосударства\tгосударство\tNOUN\tNOUN\tAnimacy=Inan|Case=Gen|Gender=Neut|Number=Sing\t4\tnmod\t_\t_\n",
            "7\tявляется\tявляться\tVERB\t_\tAspect=Imp|Mood=Ind|Number=Sing|Person=3|Tense=Pres|VerbForm=Fin|Voice=Mid\t0\troot\t_\t_\n",
            "8\tотносительной\tотносительный\tADJ\tADJ\tCase=Ins|Degree=Pos|Gender=Fem|Number=Sing\t9\tamod\t_\t_\n",
            "9\tвеличиной\tвеличина\tNOUN\tNOUN\tAnimacy=Inan|Case=Ins|Gender=Fem|Number=Sing\t7\tiobj\t_\t_\n",
            "10\t.\t.\tPUNCT\t_\t_\t7\tpunct\t_\tSpacesAfter=\\n\n",
            "\n",
            "\n"
          ]
        }
      ],
      "source": [
        "print(taiga)"
      ]
    },
    {
      "cell_type": "markdown",
      "metadata": {
        "id": "jYKnnwqVqbuZ"
      },
      "source": [
        "Понятно, что в таком виде производить расчеты не очень удобно. Для вычисления LAS и UAS сначала представим деревья разбора в виде графов."
      ]
    },
    {
      "cell_type": "markdown",
      "metadata": {
        "id": "LGkqQEi1qbua"
      },
      "source": [
        "## Графововое представление дерева разбора\n",
        "\n",
        "Методами библиотеки `conllu` превращаем выданный нам udpipe разбор в формате CoNLL-U в дерево, с которым удобно работать.\n",
        "\n",
        "С помощью стандартного обхода в ширину наполняем рёбрами объект Digraph для последующей визуализации дерева с помощью `graphviz`."
      ]
    },
    {
      "cell_type": "code",
      "execution_count": null,
      "metadata": {
        "id": "jQ6zzoRni6bo"
      },
      "outputs": [],
      "source": [
        "from conllu import parse\n",
        "from graphviz import Digraph\n",
        "\n",
        "def parse_output(conll):\n",
        "    \"\"\"\n",
        "        Preparing the dependency tree for further processing\n",
        "    \"\"\"\n",
        "    sentences = parse(conll)\n",
        "    return [s.to_tree() for s  in sentences]\n",
        "\n",
        "\n",
        "class Root(object):\n",
        "  def __init__(self, child):\n",
        "    self.token = {\"form\": \"\", \"id\": 0, \"deprel\": \"root\"}\n",
        "    self.children = [child]\n",
        "\n",
        "def draw_tree(tree):\n",
        "    \"\"\" Drawing a dependency tree for debugging stuff \"\"\"\n",
        "\n",
        "    g = Digraph(format='png')\n",
        "\n",
        "    # a queue for tree traversal\n",
        "    queue = [Root(tree)]\n",
        "\n",
        "    while len(queue) > 0:\n",
        "      \n",
        "        head = queue.pop()\n",
        "        head_label = head.token[\"form\"] + \" (%d)\" % head.token[\"id\"]\n",
        "        queue.extend(head.children)\n",
        "\n",
        "        for c in head.children:\n",
        "            c_label = c.token[\"form\"] + \" (%d)\" %  c.token[\"id\"]\n",
        "            g.edge(head_label, c_label, label=c.token[\"deprel\"])\n",
        "\n",
        "    return g"
      ]
    },
    {
      "cell_type": "markdown",
      "metadata": {
        "id": "PGp5oQbUi6cQ"
      },
      "source": [
        "Построим оба дерева"
      ]
    },
    {
      "cell_type": "code",
      "execution_count": null,
      "metadata": {
        "id": "woGZyXqCqbuf"
      },
      "outputs": [],
      "source": [
        "str_tree = parse_output(syntag.strip())[0]\n",
        "taiga_tree = parse_output(taiga.strip())[0]"
      ]
    },
    {
      "cell_type": "code",
      "execution_count": null,
      "metadata": {
        "colab": {
          "base_uri": "https://localhost:8080/",
          "height": 660
        },
        "id": "ICivSE4eqbuh",
        "outputId": "42c7b33f-80b4-45d2-f6b1-95244d6c9846"
      },
      "outputs": [
        {
          "output_type": "execute_result",
          "data": {
            "text/plain": [
              "<graphviz.dot.Digraph at 0x7fa0943ec430>"
            ],
            "image/svg+xml": "<?xml version=\"1.0\" encoding=\"UTF-8\" standalone=\"no\"?>\n<!DOCTYPE svg PUBLIC \"-//W3C//DTD SVG 1.1//EN\"\n \"http://www.w3.org/Graphics/SVG/1.1/DTD/svg11.dtd\">\n<!-- Generated by graphviz version 2.43.0 (0)\n -->\n<!-- Title: %3 Pages: 1 -->\n<svg width=\"506pt\" height=\"479pt\"\n viewBox=\"0.00 0.00 505.79 479.00\" xmlns=\"http://www.w3.org/2000/svg\" xmlns:xlink=\"http://www.w3.org/1999/xlink\">\n<g id=\"graph0\" class=\"graph\" transform=\"scale(1 1) rotate(0) translate(4 475)\">\n<title>%3</title>\n<polygon fill=\"white\" stroke=\"transparent\" points=\"-4,4 -4,-475 501.79,-475 501.79,4 -4,4\"/>\n<!--  (0) -->\n<g id=\"node1\" class=\"node\">\n<title> (0)</title>\n<ellipse fill=\"none\" stroke=\"black\" cx=\"296.25\" cy=\"-453\" rx=\"27\" ry=\"18\"/>\n<text text-anchor=\"middle\" x=\"296.25\" y=\"-449.3\" font-family=\"Times,serif\" font-size=\"14.00\"> (0)</text>\n</g>\n<!-- является (7) -->\n<g id=\"node2\" class=\"node\">\n<title>является (7)</title>\n<ellipse fill=\"none\" stroke=\"black\" cx=\"296.25\" cy=\"-366\" rx=\"57.39\" ry=\"18\"/>\n<text text-anchor=\"middle\" x=\"296.25\" y=\"-362.3\" font-family=\"Times,serif\" font-size=\"14.00\">является (7)</text>\n</g>\n<!--  (0)&#45;&gt;является (7) -->\n<g id=\"edge1\" class=\"edge\">\n<title> (0)&#45;&gt;является (7)</title>\n<path fill=\"none\" stroke=\"black\" d=\"M296.25,-434.8C296.25,-423.16 296.25,-407.55 296.25,-394.24\"/>\n<polygon fill=\"black\" stroke=\"black\" points=\"299.75,-394.18 296.25,-384.18 292.75,-394.18 299.75,-394.18\"/>\n<text text-anchor=\"middle\" x=\"307.25\" y=\"-405.8\" font-family=\"Times,serif\" font-size=\"14.00\">root</text>\n</g>\n<!-- Сегодня (1) -->\n<g id=\"node3\" class=\"node\">\n<title>Сегодня (1)</title>\n<ellipse fill=\"none\" stroke=\"black\" cx=\"55.25\" cy=\"-279\" rx=\"55.49\" ry=\"18\"/>\n<text text-anchor=\"middle\" x=\"55.25\" y=\"-275.3\" font-family=\"Times,serif\" font-size=\"14.00\">Сегодня (1)</text>\n</g>\n<!-- является (7)&#45;&gt;Сегодня (1) -->\n<g id=\"edge2\" class=\"edge\">\n<title>является (7)&#45;&gt;Сегодня (1)</title>\n<path fill=\"none\" stroke=\"black\" d=\"M258.9,-352.33C239.57,-345.74 215.62,-337.51 194.25,-330 162.78,-318.94 127.42,-306.22 100.24,-296.37\"/>\n<polygon fill=\"black\" stroke=\"black\" points=\"101.21,-293 90.62,-292.89 98.82,-299.58 101.21,-293\"/>\n<text text-anchor=\"middle\" x=\"216.75\" y=\"-318.8\" font-family=\"Times,serif\" font-size=\"14.00\">advmod</text>\n</g>\n<!-- численность (3) -->\n<g id=\"node4\" class=\"node\">\n<title>численность (3)</title>\n<ellipse fill=\"none\" stroke=\"black\" cx=\"200.25\" cy=\"-279\" rx=\"71.49\" ry=\"18\"/>\n<text text-anchor=\"middle\" x=\"200.25\" y=\"-275.3\" font-family=\"Times,serif\" font-size=\"14.00\">численность (3)</text>\n</g>\n<!-- является (7)&#45;&gt;численность (3) -->\n<g id=\"edge3\" class=\"edge\">\n<title>является (7)&#45;&gt;численность (3)</title>\n<path fill=\"none\" stroke=\"black\" d=\"M277.74,-348.61C263.22,-335.76 242.83,-317.71 226.61,-303.34\"/>\n<polygon fill=\"black\" stroke=\"black\" points=\"228.83,-300.64 219.03,-296.63 224.19,-305.88 228.83,-300.64\"/>\n<text text-anchor=\"middle\" x=\"269.25\" y=\"-318.8\" font-family=\"Times,serif\" font-size=\"14.00\">nsubj</text>\n</g>\n<!-- величиной (9) -->\n<g id=\"node5\" class=\"node\">\n<title>величиной (9)</title>\n<ellipse fill=\"none\" stroke=\"black\" cx=\"354.25\" cy=\"-279\" rx=\"64.19\" ry=\"18\"/>\n<text text-anchor=\"middle\" x=\"354.25\" y=\"-275.3\" font-family=\"Times,serif\" font-size=\"14.00\">величиной (9)</text>\n</g>\n<!-- является (7)&#45;&gt;величиной (9) -->\n<g id=\"edge4\" class=\"edge\">\n<title>является (7)&#45;&gt;величиной (9)</title>\n<path fill=\"none\" stroke=\"black\" d=\"M307.7,-348.21C316.05,-335.98 327.49,-319.21 336.94,-305.36\"/>\n<polygon fill=\"black\" stroke=\"black\" points=\"340.06,-306.99 342.81,-296.76 334.28,-303.05 340.06,-306.99\"/>\n<text text-anchor=\"middle\" x=\"338.25\" y=\"-318.8\" font-family=\"Times,serif\" font-size=\"14.00\">obl</text>\n</g>\n<!-- . (10) -->\n<g id=\"node6\" class=\"node\">\n<title>. (10)</title>\n<ellipse fill=\"none\" stroke=\"black\" cx=\"467.25\" cy=\"-279\" rx=\"30.59\" ry=\"18\"/>\n<text text-anchor=\"middle\" x=\"467.25\" y=\"-275.3\" font-family=\"Times,serif\" font-size=\"14.00\">. (10)</text>\n</g>\n<!-- является (7)&#45;&gt;. (10) -->\n<g id=\"edge5\" class=\"edge\">\n<title>является (7)&#45;&gt;. (10)</title>\n<path fill=\"none\" stroke=\"black\" d=\"M325.64,-350.39C356.19,-335.2 403.85,-311.51 435.3,-295.88\"/>\n<polygon fill=\"black\" stroke=\"black\" points=\"437.11,-298.89 444.51,-291.3 434,-292.62 437.11,-298.89\"/>\n<text text-anchor=\"middle\" x=\"407.75\" y=\"-318.8\" font-family=\"Times,serif\" font-size=\"14.00\">punct</text>\n</g>\n<!-- даже (2) -->\n<g id=\"node8\" class=\"node\">\n<title>даже (2)</title>\n<ellipse fill=\"none\" stroke=\"black\" cx=\"77.25\" cy=\"-192\" rx=\"42.49\" ry=\"18\"/>\n<text text-anchor=\"middle\" x=\"77.25\" y=\"-188.3\" font-family=\"Times,serif\" font-size=\"14.00\">даже (2)</text>\n</g>\n<!-- численность (3)&#45;&gt;даже (2) -->\n<g id=\"edge7\" class=\"edge\">\n<title>численность (3)&#45;&gt;даже (2)</title>\n<path fill=\"none\" stroke=\"black\" d=\"M176.82,-261.81C156.97,-248.1 128.4,-228.35 106.95,-213.53\"/>\n<polygon fill=\"black\" stroke=\"black\" points=\"108.74,-210.51 98.53,-207.71 104.76,-216.27 108.74,-210.51\"/>\n<text text-anchor=\"middle\" x=\"168.75\" y=\"-231.8\" font-family=\"Times,serif\" font-size=\"14.00\">advmod</text>\n</g>\n<!-- населения (4) -->\n<g id=\"node9\" class=\"node\">\n<title>населения (4)</title>\n<ellipse fill=\"none\" stroke=\"black\" cx=\"200.25\" cy=\"-192\" rx=\"63.09\" ry=\"18\"/>\n<text text-anchor=\"middle\" x=\"200.25\" y=\"-188.3\" font-family=\"Times,serif\" font-size=\"14.00\">населения (4)</text>\n</g>\n<!-- численность (3)&#45;&gt;населения (4) -->\n<g id=\"edge8\" class=\"edge\">\n<title>численность (3)&#45;&gt;населения (4)</title>\n<path fill=\"none\" stroke=\"black\" d=\"M200.25,-260.8C200.25,-249.16 200.25,-233.55 200.25,-220.24\"/>\n<polygon fill=\"black\" stroke=\"black\" points=\"203.75,-220.18 200.25,-210.18 196.75,-220.18 203.75,-220.18\"/>\n<text text-anchor=\"middle\" x=\"216.25\" y=\"-231.8\" font-family=\"Times,serif\" font-size=\"14.00\">nmod</text>\n</g>\n<!-- относительной (8) -->\n<g id=\"node7\" class=\"node\">\n<title>относительной (8)</title>\n<ellipse fill=\"none\" stroke=\"black\" cx=\"362.25\" cy=\"-192\" rx=\"81.49\" ry=\"18\"/>\n<text text-anchor=\"middle\" x=\"362.25\" y=\"-188.3\" font-family=\"Times,serif\" font-size=\"14.00\">относительной (8)</text>\n</g>\n<!-- величиной (9)&#45;&gt;относительной (8) -->\n<g id=\"edge6\" class=\"edge\">\n<title>величиной (9)&#45;&gt;относительной (8)</title>\n<path fill=\"none\" stroke=\"black\" d=\"M355.86,-260.8C356.96,-249.16 358.43,-233.55 359.68,-220.24\"/>\n<polygon fill=\"black\" stroke=\"black\" points=\"363.18,-220.46 360.63,-210.18 356.21,-219.8 363.18,-220.46\"/>\n<text text-anchor=\"middle\" x=\"374.75\" y=\"-231.8\" font-family=\"Times,serif\" font-size=\"14.00\">amod</text>\n</g>\n<!-- государства (6) -->\n<g id=\"node10\" class=\"node\">\n<title>государства (6)</title>\n<ellipse fill=\"none\" stroke=\"black\" cx=\"200.25\" cy=\"-105\" rx=\"68.49\" ry=\"18\"/>\n<text text-anchor=\"middle\" x=\"200.25\" y=\"-101.3\" font-family=\"Times,serif\" font-size=\"14.00\">государства (6)</text>\n</g>\n<!-- населения (4)&#45;&gt;государства (6) -->\n<g id=\"edge9\" class=\"edge\">\n<title>населения (4)&#45;&gt;государства (6)</title>\n<path fill=\"none\" stroke=\"black\" d=\"M200.25,-173.8C200.25,-162.16 200.25,-146.55 200.25,-133.24\"/>\n<polygon fill=\"black\" stroke=\"black\" points=\"203.75,-133.18 200.25,-123.18 196.75,-133.18 203.75,-133.18\"/>\n<text text-anchor=\"middle\" x=\"216.25\" y=\"-144.8\" font-family=\"Times,serif\" font-size=\"14.00\">nmod</text>\n</g>\n<!-- этого (5) -->\n<g id=\"node11\" class=\"node\">\n<title>этого (5)</title>\n<ellipse fill=\"none\" stroke=\"black\" cx=\"200.25\" cy=\"-18\" rx=\"43.59\" ry=\"18\"/>\n<text text-anchor=\"middle\" x=\"200.25\" y=\"-14.3\" font-family=\"Times,serif\" font-size=\"14.00\">этого (5)</text>\n</g>\n<!-- государства (6)&#45;&gt;этого (5) -->\n<g id=\"edge10\" class=\"edge\">\n<title>государства (6)&#45;&gt;этого (5)</title>\n<path fill=\"none\" stroke=\"black\" d=\"M200.25,-86.8C200.25,-75.16 200.25,-59.55 200.25,-46.24\"/>\n<polygon fill=\"black\" stroke=\"black\" points=\"203.75,-46.18 200.25,-36.18 196.75,-46.18 203.75,-46.18\"/>\n<text text-anchor=\"middle\" x=\"208.75\" y=\"-57.8\" font-family=\"Times,serif\" font-size=\"14.00\">det</text>\n</g>\n</g>\n</svg>\n"
          },
          "metadata": {},
          "execution_count": 38
        }
      ],
      "source": [
        "draw_tree(str_tree)"
      ]
    },
    {
      "cell_type": "code",
      "execution_count": null,
      "metadata": {
        "colab": {
          "base_uri": "https://localhost:8080/",
          "height": 660
        },
        "id": "a_8Oxw6Bqbuj",
        "outputId": "450d0eee-b1f7-4ab7-ed53-1be76b99824e"
      },
      "outputs": [
        {
          "output_type": "execute_result",
          "data": {
            "text/plain": [
              "<graphviz.dot.Digraph at 0x7fa0943ec6d0>"
            ],
            "image/svg+xml": "<?xml version=\"1.0\" encoding=\"UTF-8\" standalone=\"no\"?>\n<!DOCTYPE svg PUBLIC \"-//W3C//DTD SVG 1.1//EN\"\n \"http://www.w3.org/Graphics/SVG/1.1/DTD/svg11.dtd\">\n<!-- Generated by graphviz version 2.43.0 (0)\n -->\n<!-- Title: %3 Pages: 1 -->\n<svg width=\"506pt\" height=\"479pt\"\n viewBox=\"0.00 0.00 505.79 479.00\" xmlns=\"http://www.w3.org/2000/svg\" xmlns:xlink=\"http://www.w3.org/1999/xlink\">\n<g id=\"graph0\" class=\"graph\" transform=\"scale(1 1) rotate(0) translate(4 475)\">\n<title>%3</title>\n<polygon fill=\"white\" stroke=\"transparent\" points=\"-4,4 -4,-475 501.79,-475 501.79,4 -4,4\"/>\n<!--  (0) -->\n<g id=\"node1\" class=\"node\">\n<title> (0)</title>\n<ellipse fill=\"none\" stroke=\"black\" cx=\"296.25\" cy=\"-453\" rx=\"27\" ry=\"18\"/>\n<text text-anchor=\"middle\" x=\"296.25\" y=\"-449.3\" font-family=\"Times,serif\" font-size=\"14.00\"> (0)</text>\n</g>\n<!-- является (7) -->\n<g id=\"node2\" class=\"node\">\n<title>является (7)</title>\n<ellipse fill=\"none\" stroke=\"black\" cx=\"296.25\" cy=\"-366\" rx=\"57.39\" ry=\"18\"/>\n<text text-anchor=\"middle\" x=\"296.25\" y=\"-362.3\" font-family=\"Times,serif\" font-size=\"14.00\">является (7)</text>\n</g>\n<!--  (0)&#45;&gt;является (7) -->\n<g id=\"edge1\" class=\"edge\">\n<title> (0)&#45;&gt;является (7)</title>\n<path fill=\"none\" stroke=\"black\" d=\"M296.25,-434.8C296.25,-423.16 296.25,-407.55 296.25,-394.24\"/>\n<polygon fill=\"black\" stroke=\"black\" points=\"299.75,-394.18 296.25,-384.18 292.75,-394.18 299.75,-394.18\"/>\n<text text-anchor=\"middle\" x=\"307.25\" y=\"-405.8\" font-family=\"Times,serif\" font-size=\"14.00\">root</text>\n</g>\n<!-- Сегодня (1) -->\n<g id=\"node3\" class=\"node\">\n<title>Сегодня (1)</title>\n<ellipse fill=\"none\" stroke=\"black\" cx=\"55.25\" cy=\"-279\" rx=\"55.49\" ry=\"18\"/>\n<text text-anchor=\"middle\" x=\"55.25\" y=\"-275.3\" font-family=\"Times,serif\" font-size=\"14.00\">Сегодня (1)</text>\n</g>\n<!-- является (7)&#45;&gt;Сегодня (1) -->\n<g id=\"edge2\" class=\"edge\">\n<title>является (7)&#45;&gt;Сегодня (1)</title>\n<path fill=\"none\" stroke=\"black\" d=\"M258.9,-352.33C239.57,-345.74 215.62,-337.51 194.25,-330 162.78,-318.94 127.42,-306.22 100.24,-296.37\"/>\n<polygon fill=\"black\" stroke=\"black\" points=\"101.21,-293 90.62,-292.89 98.82,-299.58 101.21,-293\"/>\n<text text-anchor=\"middle\" x=\"216.75\" y=\"-318.8\" font-family=\"Times,serif\" font-size=\"14.00\">advmod</text>\n</g>\n<!-- численность (3) -->\n<g id=\"node4\" class=\"node\">\n<title>численность (3)</title>\n<ellipse fill=\"none\" stroke=\"black\" cx=\"200.25\" cy=\"-279\" rx=\"71.49\" ry=\"18\"/>\n<text text-anchor=\"middle\" x=\"200.25\" y=\"-275.3\" font-family=\"Times,serif\" font-size=\"14.00\">численность (3)</text>\n</g>\n<!-- является (7)&#45;&gt;численность (3) -->\n<g id=\"edge3\" class=\"edge\">\n<title>является (7)&#45;&gt;численность (3)</title>\n<path fill=\"none\" stroke=\"black\" d=\"M277.74,-348.61C263.22,-335.76 242.83,-317.71 226.61,-303.34\"/>\n<polygon fill=\"black\" stroke=\"black\" points=\"228.83,-300.64 219.03,-296.63 224.19,-305.88 228.83,-300.64\"/>\n<text text-anchor=\"middle\" x=\"269.25\" y=\"-318.8\" font-family=\"Times,serif\" font-size=\"14.00\">nsubj</text>\n</g>\n<!-- величиной (9) -->\n<g id=\"node5\" class=\"node\">\n<title>величиной (9)</title>\n<ellipse fill=\"none\" stroke=\"black\" cx=\"354.25\" cy=\"-279\" rx=\"64.19\" ry=\"18\"/>\n<text text-anchor=\"middle\" x=\"354.25\" y=\"-275.3\" font-family=\"Times,serif\" font-size=\"14.00\">величиной (9)</text>\n</g>\n<!-- является (7)&#45;&gt;величиной (9) -->\n<g id=\"edge4\" class=\"edge\">\n<title>является (7)&#45;&gt;величиной (9)</title>\n<path fill=\"none\" stroke=\"black\" d=\"M307.7,-348.21C316.05,-335.98 327.49,-319.21 336.94,-305.36\"/>\n<polygon fill=\"black\" stroke=\"black\" points=\"340.06,-306.99 342.81,-296.76 334.28,-303.05 340.06,-306.99\"/>\n<text text-anchor=\"middle\" x=\"340.25\" y=\"-318.8\" font-family=\"Times,serif\" font-size=\"14.00\">iobj</text>\n</g>\n<!-- . (10) -->\n<g id=\"node6\" class=\"node\">\n<title>. (10)</title>\n<ellipse fill=\"none\" stroke=\"black\" cx=\"467.25\" cy=\"-279\" rx=\"30.59\" ry=\"18\"/>\n<text text-anchor=\"middle\" x=\"467.25\" y=\"-275.3\" font-family=\"Times,serif\" font-size=\"14.00\">. (10)</text>\n</g>\n<!-- является (7)&#45;&gt;. (10) -->\n<g id=\"edge5\" class=\"edge\">\n<title>является (7)&#45;&gt;. (10)</title>\n<path fill=\"none\" stroke=\"black\" d=\"M325.64,-350.39C356.19,-335.2 403.85,-311.51 435.3,-295.88\"/>\n<polygon fill=\"black\" stroke=\"black\" points=\"437.11,-298.89 444.51,-291.3 434,-292.62 437.11,-298.89\"/>\n<text text-anchor=\"middle\" x=\"407.75\" y=\"-318.8\" font-family=\"Times,serif\" font-size=\"14.00\">punct</text>\n</g>\n<!-- даже (2) -->\n<g id=\"node8\" class=\"node\">\n<title>даже (2)</title>\n<ellipse fill=\"none\" stroke=\"black\" cx=\"77.25\" cy=\"-192\" rx=\"42.49\" ry=\"18\"/>\n<text text-anchor=\"middle\" x=\"77.25\" y=\"-188.3\" font-family=\"Times,serif\" font-size=\"14.00\">даже (2)</text>\n</g>\n<!-- численность (3)&#45;&gt;даже (2) -->\n<g id=\"edge7\" class=\"edge\">\n<title>численность (3)&#45;&gt;даже (2)</title>\n<path fill=\"none\" stroke=\"black\" d=\"M176.82,-261.81C156.97,-248.1 128.4,-228.35 106.95,-213.53\"/>\n<polygon fill=\"black\" stroke=\"black\" points=\"108.74,-210.51 98.53,-207.71 104.76,-216.27 108.74,-210.51\"/>\n<text text-anchor=\"middle\" x=\"168.75\" y=\"-231.8\" font-family=\"Times,serif\" font-size=\"14.00\">advmod</text>\n</g>\n<!-- населения (4) -->\n<g id=\"node9\" class=\"node\">\n<title>населения (4)</title>\n<ellipse fill=\"none\" stroke=\"black\" cx=\"200.25\" cy=\"-192\" rx=\"63.09\" ry=\"18\"/>\n<text text-anchor=\"middle\" x=\"200.25\" y=\"-188.3\" font-family=\"Times,serif\" font-size=\"14.00\">населения (4)</text>\n</g>\n<!-- численность (3)&#45;&gt;населения (4) -->\n<g id=\"edge8\" class=\"edge\">\n<title>численность (3)&#45;&gt;населения (4)</title>\n<path fill=\"none\" stroke=\"black\" d=\"M200.25,-260.8C200.25,-249.16 200.25,-233.55 200.25,-220.24\"/>\n<polygon fill=\"black\" stroke=\"black\" points=\"203.75,-220.18 200.25,-210.18 196.75,-220.18 203.75,-220.18\"/>\n<text text-anchor=\"middle\" x=\"216.25\" y=\"-231.8\" font-family=\"Times,serif\" font-size=\"14.00\">nmod</text>\n</g>\n<!-- относительной (8) -->\n<g id=\"node7\" class=\"node\">\n<title>относительной (8)</title>\n<ellipse fill=\"none\" stroke=\"black\" cx=\"362.25\" cy=\"-192\" rx=\"81.49\" ry=\"18\"/>\n<text text-anchor=\"middle\" x=\"362.25\" y=\"-188.3\" font-family=\"Times,serif\" font-size=\"14.00\">относительной (8)</text>\n</g>\n<!-- величиной (9)&#45;&gt;относительной (8) -->\n<g id=\"edge6\" class=\"edge\">\n<title>величиной (9)&#45;&gt;относительной (8)</title>\n<path fill=\"none\" stroke=\"black\" d=\"M355.86,-260.8C356.96,-249.16 358.43,-233.55 359.68,-220.24\"/>\n<polygon fill=\"black\" stroke=\"black\" points=\"363.18,-220.46 360.63,-210.18 356.21,-219.8 363.18,-220.46\"/>\n<text text-anchor=\"middle\" x=\"374.75\" y=\"-231.8\" font-family=\"Times,serif\" font-size=\"14.00\">amod</text>\n</g>\n<!-- государства (6) -->\n<g id=\"node10\" class=\"node\">\n<title>государства (6)</title>\n<ellipse fill=\"none\" stroke=\"black\" cx=\"200.25\" cy=\"-105\" rx=\"68.49\" ry=\"18\"/>\n<text text-anchor=\"middle\" x=\"200.25\" y=\"-101.3\" font-family=\"Times,serif\" font-size=\"14.00\">государства (6)</text>\n</g>\n<!-- населения (4)&#45;&gt;государства (6) -->\n<g id=\"edge9\" class=\"edge\">\n<title>населения (4)&#45;&gt;государства (6)</title>\n<path fill=\"none\" stroke=\"black\" d=\"M200.25,-173.8C200.25,-162.16 200.25,-146.55 200.25,-133.24\"/>\n<polygon fill=\"black\" stroke=\"black\" points=\"203.75,-133.18 200.25,-123.18 196.75,-133.18 203.75,-133.18\"/>\n<text text-anchor=\"middle\" x=\"216.25\" y=\"-144.8\" font-family=\"Times,serif\" font-size=\"14.00\">nmod</text>\n</g>\n<!-- этого (5) -->\n<g id=\"node11\" class=\"node\">\n<title>этого (5)</title>\n<ellipse fill=\"none\" stroke=\"black\" cx=\"200.25\" cy=\"-18\" rx=\"43.59\" ry=\"18\"/>\n<text text-anchor=\"middle\" x=\"200.25\" y=\"-14.3\" font-family=\"Times,serif\" font-size=\"14.00\">этого (5)</text>\n</g>\n<!-- государства (6)&#45;&gt;этого (5) -->\n<g id=\"edge10\" class=\"edge\">\n<title>государства (6)&#45;&gt;этого (5)</title>\n<path fill=\"none\" stroke=\"black\" d=\"M200.25,-86.8C200.25,-75.16 200.25,-59.55 200.25,-46.24\"/>\n<polygon fill=\"black\" stroke=\"black\" points=\"203.75,-46.18 200.25,-36.18 196.75,-46.18 203.75,-46.18\"/>\n<text text-anchor=\"middle\" x=\"208.75\" y=\"-57.8\" font-family=\"Times,serif\" font-size=\"14.00\">det</text>\n</g>\n</g>\n</svg>\n"
          },
          "metadata": {},
          "execution_count": 39
        }
      ],
      "source": [
        "draw_tree(taiga_tree)"
      ]
    },
    {
      "cell_type": "markdown",
      "metadata": {
        "id": "jU8n4urmqbul"
      },
      "source": [
        "Теперь можно переходить к расчету метрик"
      ]
    },
    {
      "cell_type": "markdown",
      "metadata": {
        "id": "VI1qm9bGqbuo"
      },
      "source": [
        "## Вычисление LAS и UAS\n",
        "\n",
        "Для этого набираем множества всех рёбер с метками и без и смотрим на размеры пересечений."
      ]
    },
    {
      "cell_type": "code",
      "execution_count": null,
      "metadata": {
        "id": "fEetAmXx6wAM"
      },
      "outputs": [],
      "source": [
        "def edges_sets(tree):\n",
        "  \"\"\" Reading edges encoded as strings \"\"\"\n",
        "\n",
        "  edges_labeled = []\n",
        "  edges_unlabeled = []\n",
        "  queue = [Root(tree)]\n",
        "  \n",
        "  while len(queue) > 0:\n",
        "    head = queue.pop()\n",
        "    head_label = head.token[\"form\"] + \" (%d)\" % head.token[\"id\"]\n",
        "    queue.extend(head.children)\n",
        "    \n",
        "    for c in head.children:\n",
        "      c_label = c.token[\"form\"] + \" (%d)\" %  c.token[\"id\"]\n",
        "      edges_unlabeled.append((head_label, c_label))\n",
        "      edges_labeled.append((head_label, c_label, c.token[\"deprel\"]))\n",
        "  \n",
        "  return set(edges_labeled), set(edges_unlabeled)"
      ]
    },
    {
      "cell_type": "code",
      "execution_count": null,
      "metadata": {
        "colab": {
          "base_uri": "https://localhost:8080/",
          "height": 37
        },
        "id": "SCT4HgK_i6cU",
        "outputId": "2b7db93d-d43a-4790-df5f-5e2a8470827c"
      },
      "outputs": [
        {
          "output_type": "execute_result",
          "data": {
            "text/plain": [
              "'LAS: 0.9000 UAS: 1.0000'"
            ],
            "application/vnd.google.colaboratory.intrinsic+json": {
              "type": "string"
            }
          },
          "metadata": {},
          "execution_count": 41
        }
      ],
      "source": [
        "def accuracy(gold, pred):\n",
        "  gold_labeled, gold_unlabeled = edges_sets(gold)\n",
        "  pred_labeled, pred_unlabeled = edges_sets(pred)\n",
        "\n",
        "  return len(gold_labeled.intersection(pred_labeled)) / len(gold_labeled), \\\n",
        "          len(gold_unlabeled.intersection(pred_unlabeled)) / len(gold_unlabeled)\n",
        "\n",
        "LAS, UAS = accuracy(str_tree, taiga_tree)\n",
        "\"LAS: %.4f UAS: %.4f\" % (LAS, UAS)"
      ]
    },
    {
      "cell_type": "markdown",
      "metadata": {
        "id": "XPsQ9gBtrKVL"
      },
      "source": [
        "Можно заметить, что в первом случае слово <code>башмачки</code> зависит от слова <code>порвались</code>, а во втором -- от слова <code>скалы</code>.\n",
        "Отдельно хотим напомнить, что таким образом корректно сравнивать парсеры только в том случае, когда токензация полностью совпадает."
      ]
    },
    {
      "cell_type": "markdown",
      "metadata": {
        "id": "n08jVsZwu_5R"
      },
      "source": [
        "## Вычисление глубины дерева"
      ]
    },
    {
      "cell_type": "markdown",
      "metadata": {
        "id": "B9LoRI_Hu_5R"
      },
      "source": [
        "Вычислим глубину дерева, например, для разбора модели taiga (ребро root не учитывается).\n",
        "\n",
        "Для этого также можно использовать, например, обход в ширину."
      ]
    },
    {
      "cell_type": "code",
      "execution_count": null,
      "metadata": {
        "colab": {
          "base_uri": "https://localhost:8080/"
        },
        "id": "_WKDvvPxi6cX",
        "outputId": "39c39e9f-9bcb-433b-8232-9bcdb7250450"
      },
      "outputs": [
        {
          "output_type": "stream",
          "name": "stdout",
          "text": [
            "Глубина дерева:  4\n"
          ]
        }
      ],
      "source": [
        "depth = 0\n",
        "queue = [(taiga_tree, depth)]\n",
        "\n",
        "while len(queue) > 0:\n",
        "    head, depth = queue.pop(0)\n",
        "    queue.extend([(c, depth + 1) for c in head.children])\n",
        "    #print(\"checking\", head.token[\"form\"])\n",
        "    \n",
        "print(\"Глубина дерева: \", depth)"
      ]
    },
    {
      "cell_type": "code",
      "execution_count": null,
      "metadata": {
        "id": "45zc-ojN5uph"
      },
      "outputs": [],
      "source": []
    }
  ],
  "metadata": {
    "colab": {
      "provenance": [],
      "toc_visible": true,
      "include_colab_link": true
    },
    "kernelspec": {
      "display_name": "Python 3",
      "language": "python",
      "name": "python3"
    },
    "language_info": {
      "codemirror_mode": {
        "name": "ipython",
        "version": 3
      },
      "file_extension": ".py",
      "mimetype": "text/x-python",
      "name": "python",
      "nbconvert_exporter": "python",
      "pygments_lexer": "ipython3",
      "version": "3.7.6"
    }
  },
  "nbformat": 4,
  "nbformat_minor": 0
}