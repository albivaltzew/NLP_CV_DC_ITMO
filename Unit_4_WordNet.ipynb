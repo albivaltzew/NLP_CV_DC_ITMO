{
  "cells": [
    {
      "cell_type": "markdown",
      "metadata": {
        "id": "view-in-github",
        "colab_type": "text"
      },
      "source": [
        "<a href=\"https://colab.research.google.com/github/albivaltzew/NLP_CV_DC_ITMO/blob/main/Unit_4_WordNet.ipynb\" target=\"_parent\"><img src=\"https://colab.research.google.com/assets/colab-badge.svg\" alt=\"Open In Colab\"/></a>"
      ]
    },
    {
      "cell_type": "markdown",
      "metadata": {
        "id": "yLYpSPDlW9LC"
      },
      "source": [
        "## Скачиваем необходимое\n",
        "\n",
        "Сначала нужно средствами NLTK загрузить WordNet.\n",
        "\n"
      ]
    },
    {
      "cell_type": "code",
      "execution_count": null,
      "metadata": {
        "colab": {
          "base_uri": "https://localhost:8080/"
        },
        "id": "YhTQ6EFXZ5R9",
        "outputId": "ef095615-4c59-44fb-aefe-b1c76515d854"
      },
      "outputs": [
        {
          "output_type": "stream",
          "name": "stderr",
          "text": [
            "[nltk_data] Downloading package omw-1.4 to /root/nltk_data...\n",
            "[nltk_data]   Package omw-1.4 is already up-to-date!\n",
            "[nltk_data] Downloading package wordnet to /root/nltk_data...\n",
            "[nltk_data]   Package wordnet is already up-to-date!\n"
          ]
        },
        {
          "output_type": "execute_result",
          "data": {
            "text/plain": [
              "True"
            ]
          },
          "metadata": {},
          "execution_count": 26
        }
      ],
      "source": [
        "import nltk\n",
        "from nltk.corpus import wordnet as wn\n",
        "nltk.download('omw-1.4')\n",
        "nltk.download('wordnet')"
      ]
    },
    {
      "cell_type": "markdown",
      "metadata": {
        "id": "EIQ4rEytvwLZ"
      },
      "source": [
        "## Готовим данные к работе\n",
        "\n",
        "Затем импортируем данные из подготовленного текстового файла. Файл содержит набор пар слов (только имён существительных), для которых известны экспертные оценки сходства.\n",
        "\n",
        "Строим ассоциативный массив \"пара слов -- оценка близости\"."
      ]
    },
    {
      "cell_type": "code",
      "execution_count": null,
      "metadata": {
        "id": "_sTFACx3dAk8"
      },
      "outputs": [],
      "source": [
        "with open(\"Task_4_sample_5.txt\", encoding=\"utf-16\") as rf:\n",
        "  triples = [line.strip().split(\"\\t\") for line in rf.readlines()]\n",
        "  score_map = {tuple(triple[:2]): float(triple[2]) for triple in triples}"
      ]
    },
    {
      "cell_type": "markdown",
      "metadata": {
        "id": "EWz1FO-teTKZ"
      },
      "source": [
        "Отметим, что из исходного набора данных мы взяли только экспертные оценки сходства (similarity) и только для существительных. Исходный набор данных доступен по [ссылке](http://alfonseca.org/pubs/ws353simrel.tar.gz)"
      ]
    },
    {
      "cell_type": "markdown",
      "metadata": {
        "id": "96B0OtKrvtaG"
      },
      "source": [
        "Посмотрим на примеры оценок. \n",
        "\n",
        "У слов может быть по несколько значений, которые различаются в WordNet. Здесь -- ради примера -- мы будем \"жадно\" выбирать первое попавшееся, но далее будем работать с ними иначе.\n",
        "\n",
        "\n"
      ]
    },
    {
      "cell_type": "code",
      "execution_count": null,
      "metadata": {
        "colab": {
          "base_uri": "https://localhost:8080/"
        },
        "id": "7iXamIiZgf-O",
        "outputId": "0483a425-024f-4b41-cb85-92798c5d5150"
      },
      "outputs": [
        {
          "output_type": "stream",
          "name": "stdout",
          "text": [
            "\n",
            "Words: stock-CD\n",
            "Ground truth score: 1.31\n",
            "\n",
            "Path: 0.100 \n",
            "wup: 0.400 \n",
            "shortest_path: 9.000\n",
            "\n",
            "Words: fuck-sex\n",
            "Ground truth score: 9.44\n",
            "\n",
            "Path: 0.333 \n",
            "wup: 0.857 \n",
            "shortest_path: 2.000\n"
          ]
        }
      ],
      "source": [
        "for w1, w2 in list(score_map)[:2]:\n",
        "  \n",
        "  print(\"\\nWords: %s-%s\\nGround truth score: %.2f\" % (w1, w2, score_map[(w1, w2)]))\n",
        "  \n",
        "  ss1 = wn.synset(w1 + \".n.01\")\n",
        "  ss2 = wn.synset(w2 + \".n.01\")\n",
        "\n",
        "  print(\"\\nPath: %.3f\" % ss1.path_similarity(ss2), end=\" \")\n",
        "  print(\"\\nwup: %.3f\" % ss1.wup_similarity(ss2), end=\" \")\n",
        "  print(\"\\nshortest_path: %.3f\" % ss1.shortest_path_distance(ss2))"
      ]
    },
    {
      "cell_type": "markdown",
      "metadata": {
        "id": "ZHM7tCb0vqNp"
      },
      "source": [
        "Вычисляем для всех пар несколько оценок"
      ]
    },
    {
      "cell_type": "code",
      "execution_count": null,
      "metadata": {
        "id": "fe7Nuglqgnd3"
      },
      "outputs": [],
      "source": [
        "from itertools import product\n",
        "\n",
        "list_pairs = list(score_map)\n",
        "wup_list, true_list, path_list, lch_list = [], [], [], []\n",
        "\n",
        "# для всех пар\n",
        "for w1, w2 in list_pairs:\n",
        "\n",
        "  try:\n",
        "    all_w1 = wn.synsets(w1, pos=\"n\")\n",
        "    all_w2 = wn.synsets(w2, pos=\"n\")\n",
        "\n",
        "    # добавляем интересующие нас метрики и экспертные оценки\n",
        "    wup = max([item1.wup_similarity(item2) \\\n",
        "                for item1, item2 in product(all_w1, all_w2)])\n",
        "    wup_list.append(wup)\n",
        "\n",
        "    path = max([item1.path_similarity(item2) \\\n",
        "                for item1, item2 in product(all_w1, all_w2)])\n",
        "    path_list.append(path)\n",
        "\n",
        "    lch = max([item1.lch_similarity(item2) \\\n",
        "                for item1, item2 in product(all_w1, all_w2)])\n",
        "    lch_list.append(lch)\n",
        "    \n",
        "    true_list.append(score_map[(w1, w2)])\n",
        "\n",
        "  except Exception as e:\n",
        "    print(w1, w2, \"error:\", e)"
      ]
    },
    {
      "cell_type": "markdown",
      "metadata": {
        "id": "oAjuTLB0fD-I"
      },
      "source": [
        "## Вычисляем ранговую корреляцию Спирмена"
      ]
    },
    {
      "cell_type": "code",
      "execution_count": null,
      "metadata": {
        "colab": {
          "base_uri": "https://localhost:8080/"
        },
        "id": "fXnCdw8wxcVd",
        "outputId": "5a329848-a19e-49fa-dc0f-2ce0c2ecdc9a"
      },
      "outputs": [
        {
          "output_type": "stream",
          "name": "stdout",
          "text": [
            "wup  Spearman R: 0.6387\n",
            "path Spearman R: 0.6160\n",
            "lch Spearman R: 0.6160\n"
          ]
        }
      ],
      "source": [
        "from scipy.stats import spearmanr\n",
        "\n",
        "coef, p = spearmanr(wup_list, true_list)\n",
        "print(\"wup  Spearman R: %.4f\" % coef)\n",
        "\n",
        "coef, p = spearmanr(path_list, true_list)\n",
        "print(\"path Spearman R: %.4f\" % coef)\n",
        "\n",
        "coef, p = spearmanr(lch_list, true_list)\n",
        "print(\"lch Spearman R: %.4f\" % coef)\n",
        "\n"
      ]
    },
    {
      "cell_type": "code",
      "source": [
        "physics = wn.synset('physics.n.01')\n",
        "typesOfPhysics = list(set([w for s in physics.closure(lambda s:s.hyponyms()) for w in s.lemma_names()]))\n",
        "len(typesOfPhysics)"
      ],
      "metadata": {
        "colab": {
          "base_uri": "https://localhost:8080/"
        },
        "id": "5dxr-3g0whR7",
        "outputId": "2f033b62-7243-46f9-9db2-771ba107ed20"
      },
      "execution_count": null,
      "outputs": [
        {
          "output_type": "execute_result",
          "data": {
            "text/plain": [
              "67"
            ]
          },
          "metadata": {},
          "execution_count": 33
        }
      ]
    },
    {
      "cell_type": "code",
      "source": [
        "typesOfPhysics"
      ],
      "metadata": {
        "colab": {
          "base_uri": "https://localhost:8080/"
        },
        "id": "CkfGk1M_wwM3",
        "outputId": "731c2618-0eda-4ccb-f158-7f4adf90a3e6"
      },
      "execution_count": null,
      "outputs": [
        {
          "output_type": "execute_result",
          "data": {
            "text/plain": [
              "['high-energy_physics',\n",
              " 'plasma_physics',\n",
              " 'mechanics',\n",
              " 'kinematics',\n",
              " 'magnetohydrodynamics',\n",
              " 'solid-state_physics',\n",
              " 'electron_optics',\n",
              " 'aerodynamics',\n",
              " 'thermodynamics',\n",
              " 'Newtonian_mechanics',\n",
              " 'statistical_mechanics',\n",
              " 'uranology',\n",
              " 'rheology',\n",
              " 'electronics',\n",
              " 'crystallography',\n",
              " 'astronautics',\n",
              " 'electromagnetism',\n",
              " 'electromagnetics',\n",
              " 'electrostatics',\n",
              " 'thermionics',\n",
              " 'pneumatics',\n",
              " 'hydrostatics',\n",
              " 'atomic_physics',\n",
              " 'quantum_field_theory',\n",
              " 'astronomy',\n",
              " 'cosmology',\n",
              " 'solar_physics',\n",
              " 'optics',\n",
              " 'quantum_electrodynamics',\n",
              " 'wave_mechanics',\n",
              " 'hydrodynamics',\n",
              " 'dynamics',\n",
              " 'cosmogeny',\n",
              " 'QED',\n",
              " 'aeronautics',\n",
              " 'hydrokinetics',\n",
              " 'quantum_mechanics',\n",
              " 'nucleonics',\n",
              " 'microelectronics',\n",
              " 'aeromechanics',\n",
              " 'statics',\n",
              " 'catoptrics',\n",
              " 'hydraulics',\n",
              " 'classical_mechanics',\n",
              " 'biophysics',\n",
              " 'astrophysics',\n",
              " 'holography',\n",
              " 'radio_astronomy',\n",
              " 'astrodynamics',\n",
              " 'thermostatics',\n",
              " 'thermodynamics_of_equilibrium',\n",
              " 'astrometry',\n",
              " 'cosmogony',\n",
              " 'ballistics',\n",
              " 'particle_physics',\n",
              " 'QCD',\n",
              " 'nuclear_physics',\n",
              " 'selenology',\n",
              " 'high_energy_physics',\n",
              " 'kinetics',\n",
              " 'celestial_mechanics',\n",
              " 'avionics',\n",
              " 'quantum_chromodynamics',\n",
              " 'cryogenics',\n",
              " 'fluid_mechanics',\n",
              " 'quantum_physics',\n",
              " 'cryogeny']"
            ]
          },
          "metadata": {},
          "execution_count": 34
        }
      ]
    },
    {
      "cell_type": "code",
      "source": [
        "physics = wn.synset('physics.n.01')\n",
        "physics.hyponyms()"
      ],
      "metadata": {
        "colab": {
          "base_uri": "https://localhost:8080/"
        },
        "id": "Lkjs8qvsw78d",
        "outputId": "8f856966-3b8c-4f93-de03-092276ae4e7d"
      },
      "execution_count": null,
      "outputs": [
        {
          "output_type": "execute_result",
          "data": {
            "text/plain": [
              "[Synset('aeronautics.n.01'),\n",
              " Synset('astronomy.n.01'),\n",
              " Synset('biophysics.n.01'),\n",
              " Synset('cryogenics.n.01'),\n",
              " Synset('crystallography.n.01'),\n",
              " Synset('electromagnetism.n.02'),\n",
              " Synset('electronics.n.01'),\n",
              " Synset('electrostatics.n.01'),\n",
              " Synset('mechanics.n.01'),\n",
              " Synset('nuclear_physics.n.01'),\n",
              " Synset('optics.n.01'),\n",
              " Synset('particle_physics.n.01'),\n",
              " Synset('plasma_physics.n.01'),\n",
              " Synset('quantum_physics.n.01'),\n",
              " Synset('rheology.n.01'),\n",
              " Synset('solid-state_physics.n.01'),\n",
              " Synset('statistical_mechanics.n.01'),\n",
              " Synset('thermodynamics.n.01')]"
            ]
          },
          "metadata": {},
          "execution_count": 44
        }
      ]
    },
    {
      "cell_type": "code",
      "source": [
        "physics.hyponyms()[0].name()"
      ],
      "metadata": {
        "id": "3Ms4YhxGyZLt",
        "outputId": "8de5c54d-d5d8-4e14-c79a-f22aed5c5ae0",
        "colab": {
          "base_uri": "https://localhost:8080/",
          "height": 37
        }
      },
      "execution_count": null,
      "outputs": [
        {
          "output_type": "execute_result",
          "data": {
            "text/plain": [
              "'aeronautics.n.01'"
            ],
            "application/vnd.google.colaboratory.intrinsic+json": {
              "type": "string"
            }
          },
          "metadata": {},
          "execution_count": 45
        }
      ]
    },
    {
      "cell_type": "code",
      "source": [
        "len(physics.hyponyms())"
      ],
      "metadata": {
        "colab": {
          "base_uri": "https://localhost:8080/"
        },
        "id": "C58k-bKZyKZj",
        "outputId": "596e33ef-3be2-4a58-fd93-1883653af8f9"
      },
      "execution_count": null,
      "outputs": [
        {
          "output_type": "execute_result",
          "data": {
            "text/plain": [
              "18"
            ]
          },
          "metadata": {},
          "execution_count": 46
        }
      ]
    }
  ],
  "metadata": {
    "colab": {
      "provenance": [],
      "include_colab_link": true
    },
    "kernelspec": {
      "display_name": "Python 3",
      "language": "python",
      "name": "python3"
    },
    "language_info": {
      "codemirror_mode": {
        "name": "ipython",
        "version": 3
      },
      "file_extension": ".py",
      "mimetype": "text/x-python",
      "name": "python",
      "nbconvert_exporter": "python",
      "pygments_lexer": "ipython3",
      "version": "3.7.6"
    }
  },
  "nbformat": 4,
  "nbformat_minor": 0
}